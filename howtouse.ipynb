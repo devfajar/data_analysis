{
  "nbformat": 4,
  "nbformat_minor": 0,
  "metadata": {
    "colab": {
      "name": "howtouse.ipynb",
      "provenance": [],
      "authorship_tag": "ABX9TyPtuQKd73WG+8k/t4Nr7/KH",
      "include_colab_link": true
    },
    "kernelspec": {
      "name": "python3",
      "display_name": "Python 3"
    },
    "language_info": {
      "name": "python"
    }
  },
  "cells": [
    {
      "cell_type": "markdown",
      "metadata": {
        "id": "view-in-github",
        "colab_type": "text"
      },
      "source": [
        "<a href=\"https://colab.research.google.com/github/devfajar/data_analysis_freecodecamp/blob/main/howtouse.ipynb\" target=\"_parent\"><img src=\"https://colab.research.google.com/assets/colab-badge.svg\" alt=\"Open In Colab\"/></a>"
      ]
    },
    {
      "cell_type": "code",
      "metadata": {
        "id": "OLZvUxZvHYA-"
      },
      "source": [
        "import numpy as np"
      ],
      "execution_count": 1,
      "outputs": []
    },
    {
      "cell_type": "markdown",
      "metadata": {
        "id": "jS-df75PDyYV"
      },
      "source": [
        "**Command in google collab**\n",
        "\n",
        "\n",
        "press a = make a new cell at above\n",
        "\n",
        "press b = make a new cell at bottom\n",
        "\n",
        "press b = undo command before\n",
        "\n",
        "press ctrl + m + k = make the current cell moving up\n",
        "\n",
        "press ctrl + m + j = make the current cell moving to bottom\n",
        "\n",
        "press ctrl + m + d = delete the current cell\n"
      ]
    },
    {
      "cell_type": "code",
      "metadata": {
        "colab": {
          "base_uri": "https://localhost:8080/"
        },
        "id": "24NZOxdf-zvK",
        "outputId": "e3511924-6412-40c6-e83c-95d5794c019a"
      },
      "source": [
        "1 + 4"
      ],
      "execution_count": null,
      "outputs": [
        {
          "output_type": "execute_result",
          "data": {
            "text/plain": [
              "5"
            ]
          },
          "metadata": {},
          "execution_count": 2
        }
      ]
    },
    {
      "cell_type": "markdown",
      "metadata": {
        "id": "q_iW4qoDHQcZ"
      },
      "source": [
        "Boolean"
      ]
    },
    {
      "cell_type": "code",
      "metadata": {
        "id": "5xd0P4U1AfAS",
        "colab": {
          "base_uri": "https://localhost:8080/"
        },
        "outputId": "2a76294e-20b0-47ae-b514-8f09a5f3cd9d"
      },
      "source": [
        "a = np.arange(5)\n",
        "print(a <= 3)"
      ],
      "execution_count": 5,
      "outputs": [
        {
          "output_type": "stream",
          "name": "stdout",
          "text": [
            "[ True  True  True  True False]\n"
          ]
        }
      ]
    },
    {
      "cell_type": "code",
      "metadata": {
        "colab": {
          "base_uri": "https://localhost:8080/"
        },
        "id": "ioaZPk0gHjeT",
        "outputId": "4dfa4fb2-0307-4892-b430-758548ee00f9"
      },
      "source": [
        ""
      ],
      "execution_count": 4,
      "outputs": [
        {
          "output_type": "execute_result",
          "data": {
            "text/plain": [
              "array([0, 3])"
            ]
          },
          "metadata": {},
          "execution_count": 4
        }
      ]
    }
  ]
}